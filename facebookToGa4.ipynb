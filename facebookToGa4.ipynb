{
 "cells": [
  {
   "cell_type": "code",
   "execution_count": 71,
   "metadata": {},
   "outputs": [],
   "source": [
    "import requests\n",
    "from datetime import datetime, timedelta\n",
    "import pandas as pd"
   ]
  },
  {
   "cell_type": "code",
   "execution_count": 3,
   "metadata": {},
   "outputs": [],
   "source": [
    "your_user_id = '505815368737281'\n",
    "user_access_token = 'EAAPGyUspGX4BOz4n3kPne3eqeayVssq2KptSLqQfKLGHEbhbjYTQXHOg8eickYRYZAPt9TuTCRjWSsBsgQvVK3MuSf5z5JaT4ZBqWzqlVrFJ0w2G6QdGdH3ZAPntR1bSlOBbmx7cPRhH8I3dTENTTjfyzpXkXGefkr7tK8IB75TecotUNv4DBVWwkCglAEvl2Wfg3DpBxXVds5418CErjSuqAZDZD'\n"
   ]
  },
  {
   "cell_type": "code",
   "execution_count": 5,
   "metadata": {},
   "outputs": [],
   "source": [
    "page_id = '151189004972368'\n",
    "metrics = 'post_engaged_users'\n",
    "page_acces_token = 'EAAPGyUspGX4BO8A3H76aAaBUoTZAyHDBFhVp4s54uGyy9m2SAn1sKJqGl5ZCW7N7u7Yd6qJvKqaf4vy7w022rBB2Y7KUul0LiDJDnWzhnnS2dq5EQASxYWRSJcsoRFp64S3bXMVA1lU6vrZBi6Cyh44X88RjdQIowYRmZB4viCZAKDMe76sNB6RkVPGZAZCvZCqr0Yt57ntR3ZBRzQwzmBTDvhbCpxZBUjcAYZD'"
   ]
  },
  {
   "cell_type": "code",
   "execution_count": 56,
   "metadata": {},
   "outputs": [],
   "source": [
    "page_id = '151189004972368'\n",
    "start_date = '2023-09-01'\n",
    "end_date = '2023-10-01'"
   ]
  },
  {
   "cell_type": "code",
   "execution_count": 87,
   "metadata": {},
   "outputs": [],
   "source": [
    "url = f'https://graph.facebook.com/v20.0/{page_id}/insights'"
   ]
  },
  {
   "cell_type": "code",
   "execution_count": null,
   "metadata": {},
   "outputs": [],
   "source": [
    "url"
   ]
  },
  {
   "cell_type": "code",
   "execution_count": 88,
   "metadata": {},
   "outputs": [],
   "source": [
    "params = {\n",
    "    'access_token': page_acces_token,\n",
    "    'metric': 'page_follows',\n",
    "    'since' : start_date,\n",
    "    'until': end_date\n",
    "}"
   ]
  },
  {
   "cell_type": "code",
   "execution_count": 89,
   "metadata": {},
   "outputs": [],
   "source": [
    "response = requests.get(url, params=params)"
   ]
  },
  {
   "cell_type": "code",
   "execution_count": null,
   "metadata": {},
   "outputs": [],
   "source": [
    "response.text"
   ]
  },
  {
   "cell_type": "code",
   "execution_count": 90,
   "metadata": {},
   "outputs": [],
   "source": [
    "data = response.json()['data'][0]['values']"
   ]
  },
  {
   "cell_type": "code",
   "execution_count": 91,
   "metadata": {},
   "outputs": [],
   "source": [
    "df = pd.DataFrame(data)"
   ]
  },
  {
   "cell_type": "code",
   "execution_count": 92,
   "metadata": {},
   "outputs": [],
   "source": [
    "df = df.rename(columns={'value': 'likes', 'end_time': 'date'})\n"
   ]
  },
  {
   "cell_type": "code",
   "execution_count": 93,
   "metadata": {},
   "outputs": [],
   "source": [
    "df['date'] = pd.to_datetime(df['date'])\n",
    "df['date'] = df['date'].dt.strftime('%Y-%m-%d')"
   ]
  },
  {
   "cell_type": "code",
   "execution_count": null,
   "metadata": {},
   "outputs": [],
   "source": [
    "df"
   ]
  }
 ],
 "metadata": {
  "kernelspec": {
   "display_name": ".venv",
   "language": "python",
   "name": "python3"
  },
  "language_info": {
   "codemirror_mode": {
    "name": "ipython",
    "version": 3
   },
   "file_extension": ".py",
   "mimetype": "text/x-python",
   "name": "python",
   "nbconvert_exporter": "python",
   "pygments_lexer": "ipython3",
   "version": "3.12.0"
  }
 },
 "nbformat": 4,
 "nbformat_minor": 2
}
