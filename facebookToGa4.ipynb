{
 "cells": [
  {
   "cell_type": "code",
   "execution_count": 1,
   "metadata": {},
   "outputs": [],
   "source": [
    "import requests\n",
    "from datetime import datetime, timedelta"
   ]
  },
  {
   "cell_type": "code",
   "execution_count": 51,
   "metadata": {},
   "outputs": [],
   "source": [
    "your_user_id = '505815368737281'\n",
    "user_access_token = 'EAAPGyUspGX4BOz4n3kPne3eqeayVssq2KptSLqQfKLGHEbhbjYTQXHOg8eickYRYZAPt9TuTCRjWSsBsgQvVK3MuSf5z5JaT4ZBqWzqlVrFJ0w2G6QdGdH3ZAPntR1bSlOBbmx7cPRhH8I3dTENTTjfyzpXkXGefkr7tK8IB75TecotUNv4DBVWwkCglAEvl2Wfg3DpBxXVds5418CErjSuqAZDZD'\n"
   ]
  },
  {
   "cell_type": "code",
   "execution_count": 120,
   "metadata": {},
   "outputs": [],
   "source": [
    "url = f'https://graph.facebook.com/v18.0/{page_id}/insights'"
   ]
  },
  {
   "cell_type": "code",
   "execution_count": 121,
   "metadata": {},
   "outputs": [],
   "source": [
    "response = requests.get(url_token)"
   ]
  },
  {
   "cell_type": "code",
   "execution_count": 122,
   "metadata": {},
   "outputs": [
    {
     "data": {
      "text/plain": [
       "'{\"fan_count\":1022079,\"id\":\"151189004972368\"}'"
      ]
     },
     "execution_count": 122,
     "metadata": {},
     "output_type": "execute_result"
    }
   ],
   "source": [
    "response.text"
   ]
  },
  {
   "cell_type": "code",
   "execution_count": 145,
   "metadata": {},
   "outputs": [],
   "source": [
    "page_id = '151189004972368'\n",
    "metrics = 'post_engaged_users'\n",
    "page_acces_token = 'EAAPGyUspGX4BO8A3H76aAaBUoTZAyHDBFhVp4s54uGyy9m2SAn1sKJqGl5ZCW7N7u7Yd6qJvKqaf4vy7w022rBB2Y7KUul0LiDJDnWzhnnS2dq5EQASxYWRSJcsoRFp64S3bXMVA1lU6vrZBi6Cyh44X88RjdQIowYRmZB4viCZAKDMe76sNB6RkVPGZAZCvZCqr0Yt57ntR3ZBRzQwzmBTDvhbCpxZBUjcAYZD'"
   ]
  },
  {
   "cell_type": "code",
   "execution_count": 185,
   "metadata": {},
   "outputs": [],
   "source": [
    "page_id = '151189004972368'\n",
    "start_date = '2024-07-01'\n",
    "end_date = '2024-09-01'"
   ]
  },
  {
   "cell_type": "code",
   "execution_count": 186,
   "metadata": {},
   "outputs": [],
   "source": [
    "url = f'https://graph.facebook.com/v20.0/{page_id}/insights?metric=page_follows&period=day&since={start_date}&until={end_date}'"
   ]
  },
  {
   "cell_type": "code",
   "execution_count": 189,
   "metadata": {},
   "outputs": [
    {
     "data": {
      "text/plain": [
       "'https://graph.facebook.com/v20.0/151189004972368/insights?metric=page_follows&period=day&since=2024-07-01&until=2024-09-01'"
      ]
     },
     "execution_count": 189,
     "metadata": {},
     "output_type": "execute_result"
    }
   ],
   "source": [
    "url"
   ]
  },
  {
   "cell_type": "code",
   "execution_count": 190,
   "metadata": {},
   "outputs": [],
   "source": [
    "params = {\n",
    "    'access_token': page_acces_token\n",
    "}"
   ]
  },
  {
   "cell_type": "code",
   "execution_count": 191,
   "metadata": {},
   "outputs": [],
   "source": [
    "response = requests.get(url, params=params)"
   ]
  },
  {
   "cell_type": "code",
   "execution_count": 192,
   "metadata": {},
   "outputs": [
    {
     "data": {
      "text/plain": [
       "'{\"data\":[],\"paging\":{\"previous\":\"https:\\\\/\\\\/graph.facebook.com\\\\/v20.0\\\\/151189004972368\\\\/insights?access_token=EAAPGyUspGX4BO8A3H76aAaBUoTZAyHDBFhVp4s54uGyy9m2SAn1sKJqGl5ZCW7N7u7Yd6qJvKqaf4vy7w022rBB2Y7KUul0LiDJDnWzhnnS2dq5EQASxYWRSJcsoRFp64S3bXMVA1lU6vrZBi6Cyh44X88RjdQIowYRmZB4viCZAKDMe76sNB6RkVPGZAZCvZCqr0Yt57ntR3ZBRzQwzmBTDvhbCpxZBUjcAYZD&since=1714460400&until=1719817200&metric=page_follows&period=day\",\"next\":\"https:\\\\/\\\\/graph.facebook.com\\\\/v20.0\\\\/151189004972368\\\\/insights?access_token=EAAPGyUspGX4BO8A3H76aAaBUoTZAyHDBFhVp4s54uGyy9m2SAn1sKJqGl5ZCW7N7u7Yd6qJvKqaf4vy7w022rBB2Y7KUul0LiDJDnWzhnnS2dq5EQASxYWRSJcsoRFp64S3bXMVA1lU6vrZBi6Cyh44X88RjdQIowYRmZB4viCZAKDMe76sNB6RkVPGZAZCvZCqr0Yt57ntR3ZBRzQwzmBTDvhbCpxZBUjcAYZD&since=1725174000&until=1730530800&metric=page_follows&period=day\"}}'"
      ]
     },
     "execution_count": 192,
     "metadata": {},
     "output_type": "execute_result"
    }
   ],
   "source": [
    "response.text"
   ]
  }
 ],
 "metadata": {
  "kernelspec": {
   "display_name": ".venv",
   "language": "python",
   "name": "python3"
  },
  "language_info": {
   "codemirror_mode": {
    "name": "ipython",
    "version": 3
   },
   "file_extension": ".py",
   "mimetype": "text/x-python",
   "name": "python",
   "nbconvert_exporter": "python",
   "pygments_lexer": "ipython3",
   "version": "3.12.0"
  }
 },
 "nbformat": 4,
 "nbformat_minor": 2
}
