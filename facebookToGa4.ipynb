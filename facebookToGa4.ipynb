{
 "cells": [
  {
   "cell_type": "code",
   "execution_count": 2,
   "metadata": {},
   "outputs": [],
   "source": [
    "import requests\n",
    "from datetime import datetime, timedelta\n",
    "import pandas as pd"
   ]
  },
  {
   "cell_type": "code",
   "execution_count": 3,
   "metadata": {},
   "outputs": [],
   "source": [
    "your_user_id = '505815368737281'\n",
    "user_access_token = 'EAAPGyUspGX4BOz4n3kPne3eqeayVssq2KptSLqQfKLGHEbhbjYTQXHOg8eickYRYZAPt9TuTCRjWSsBsgQvVK3MuSf5z5JaT4ZBqWzqlVrFJ0w2G6QdGdH3ZAPntR1bSlOBbmx7cPRhH8I3dTENTTjfyzpXkXGefkr7tK8IB75TecotUNv4DBVWwkCglAEvl2Wfg3DpBxXVds5418CErjSuqAZDZD'\n"
   ]
  },
  {
   "cell_type": "code",
   "execution_count": 4,
   "metadata": {},
   "outputs": [],
   "source": [
    "page_id = '151189004972368'\n",
    "metrics = 'post_engaged_users'\n",
    "page_acces_token = 'EAAPGyUspGX4BO2xg73hmFrqsuG1QPV5kNexg36oZBV5ZAoQFDX3ErLAn6rAph4bGfpk0eyTZA8tcetx1dFSpQ4QIpZCQw9JtdkESijjdjVjZCOGy7YHff9OLWJZBIoY96dfU0x7lZBwsr4r4NwuntvsfZAAnyQA5WBqqeMn0dJRORYL1O8ZBvWG2MWIlZA8PrUR9K0bwKvnAB0vENa0yeXhc8bDJnZCCItvElEZD'"
   ]
  },
  {
   "cell_type": "code",
   "execution_count": 33,
   "metadata": {},
   "outputs": [],
   "source": [
    "page_id = '151189004972368'\n",
    "start_date = '2023-08-31'\n",
    "end_date = '2023-10-01'"
   ]
  },
  {
   "cell_type": "code",
   "execution_count": 34,
   "metadata": {},
   "outputs": [],
   "source": [
    "url = f'https://graph.facebook.com/v20.0/{page_id}/insights'"
   ]
  },
  {
   "cell_type": "code",
   "execution_count": 35,
   "metadata": {},
   "outputs": [],
   "source": [
    "params = {\n",
    "    'access_token': page_acces_token,\n",
    "    'metric': 'page_follows',\n",
    "    'since' : start_date,\n",
    "    'until': end_date\n",
    "}"
   ]
  },
  {
   "cell_type": "code",
   "execution_count": 36,
   "metadata": {},
   "outputs": [],
   "source": [
    "response = requests.get(url, params=params)"
   ]
  },
  {
   "cell_type": "code",
   "execution_count": 37,
   "metadata": {},
   "outputs": [
    {
     "data": {
      "text/plain": [
       "'{\"data\":[{\"name\":\"page_follows\",\"period\":\"day\",\"values\":[{\"value\":1016508,\"end_time\":\"2023-08-02T07:00:00+0000\"},{\"value\":1016510,\"end_time\":\"2023-08-03T07:00:00+0000\"},{\"value\":1016519,\"end_time\":\"2023-08-04T07:00:00+0000\"},{\"value\":1016518,\"end_time\":\"2023-08-05T07:00:00+0000\"},{\"value\":1016528,\"end_time\":\"2023-08-06T07:00:00+0000\"},{\"value\":1016542,\"end_time\":\"2023-08-07T07:00:00+0000\"},{\"value\":1016549,\"end_time\":\"2023-08-08T07:00:00+0000\"},{\"value\":1016560,\"end_time\":\"2023-08-09T07:00:00+0000\"},{\"value\":1016562,\"end_time\":\"2023-08-10T07:00:00+0000\"},{\"value\":1016574,\"end_time\":\"2023-08-11T07:00:00+0000\"},{\"value\":1016578,\"end_time\":\"2023-08-12T07:00:00+0000\"},{\"value\":1016587,\"end_time\":\"2023-08-13T07:00:00+0000\"},{\"value\":1016592,\"end_time\":\"2023-08-14T07:00:00+0000\"},{\"value\":1016600,\"end_time\":\"2023-08-15T07:00:00+0000\"},{\"value\":1016609,\"end_time\":\"2023-08-16T07:00:00+0000\"},{\"value\":1016607,\"end_time\":\"2023-08-17T07:00:00+0000\"},{\"value\":1016612,\"end_time\":\"2023-08-18T07:00:00+0000\"},{\"value\":1016623,\"end_time\":\"2023-08-19T07:00:00+0000\"},{\"value\":1016630,\"end_time\":\"2023-08-20T07:00:00+0000\"},{\"value\":1016642,\"end_time\":\"2023-08-21T07:00:00+0000\"},{\"value\":1016652,\"end_time\":\"2023-08-22T07:00:00+0000\"},{\"value\":1016665,\"end_time\":\"2023-08-23T07:00:00+0000\"},{\"value\":1016668,\"end_time\":\"2023-08-24T07:00:00+0000\"},{\"value\":1016679,\"end_time\":\"2023-08-25T07:00:00+0000\"},{\"value\":1016681,\"end_time\":\"2023-08-26T07:00:00+0000\"},{\"value\":1016691,\"end_time\":\"2023-08-27T07:00:00+0000\"},{\"value\":1016705,\"end_time\":\"2023-08-28T07:00:00+0000\"},{\"value\":1016715,\"end_time\":\"2023-08-29T07:00:00+0000\"},{\"value\":1016719,\"end_time\":\"2023-08-30T07:00:00+0000\"},{\"value\":1016734,\"end_time\":\"2023-08-31T07:00:00+0000\"},{\"value\":1016746,\"end_time\":\"2023-09-01T07:00:00+0000\"},{\"value\":1016748,\"end_time\":\"2023-09-02T07:00:00+0000\"},{\"value\":1016752,\"end_time\":\"2023-09-03T07:00:00+0000\"},{\"value\":1016755,\"end_time\":\"2023-09-04T07:00:00+0000\"},{\"value\":1016761,\"end_time\":\"2023-09-05T07:00:00+0000\"},{\"value\":1016768,\"end_time\":\"2023-09-06T07:00:00+0000\"},{\"value\":1016768,\"end_time\":\"2023-09-07T07:00:00+0000\"},{\"value\":1016782,\"end_time\":\"2023-09-08T07:00:00+0000\"},{\"value\":1016789,\"end_time\":\"2023-09-09T07:00:00+0000\"},{\"value\":1016811,\"end_time\":\"2023-09-10T07:00:00+0000\"},{\"value\":1016820,\"end_time\":\"2023-09-11T07:00:00+0000\"},{\"value\":1016830,\"end_time\":\"2023-09-12T07:00:00+0000\"},{\"value\":1016773,\"end_time\":\"2023-09-13T07:00:00+0000\"},{\"value\":1016769,\"end_time\":\"2023-09-14T07:00:00+0000\"},{\"value\":1016790,\"end_time\":\"2023-09-15T07:00:00+0000\"},{\"value\":1016785,\"end_time\":\"2023-09-16T07:00:00+0000\"},{\"value\":1016771,\"end_time\":\"2023-09-17T07:00:00+0000\"},{\"value\":1016785,\"end_time\":\"2023-09-18T07:00:00+0000\"},{\"value\":1016798,\"end_time\":\"2023-09-19T07:00:00+0000\"},{\"value\":1016817,\"end_time\":\"2023-09-20T07:00:00+0000\"},{\"value\":1016834,\"end_time\":\"2023-09-21T07:00:00+0000\"},{\"value\":1016844,\"end_time\":\"2023-09-22T07:00:00+0000\"},{\"value\":1016849,\"end_time\":\"2023-09-23T07:00:00+0000\"},{\"value\":1016855,\"end_time\":\"2023-09-24T07:00:00+0000\"},{\"value\":1016860,\"end_time\":\"2023-09-25T07:00:00+0000\"},{\"value\":1016881,\"end_time\":\"2023-09-26T07:00:00+0000\"},{\"value\":1016892,\"end_time\":\"2023-09-27T07:00:00+0000\"},{\"value\":1016899,\"end_time\":\"2023-09-28T07:00:00+0000\"},{\"value\":1016911,\"end_time\":\"2023-09-29T07:00:00+0000\"},{\"value\":1016921,\"end_time\":\"2023-09-30T07:00:00+0000\"},{\"value\":1016935,\"end_time\":\"2023-10-01T07:00:00+0000\"}],\"title\":\"Lifetime Total Follows\",\"description\":\"Lifetime: The number of followers of your Facebook Page or profile. This is calculated as the number of follows minus the number of unfollows over the lifetime of your Facebook Page or profile. \",\"id\":\"151189004972368\\\\/insights\\\\/page_follows\\\\/day\"}],\"paging\":{\"previous\":\"https:\\\\/\\\\/graph.facebook.com\\\\/v20.0\\\\/151189004972368\\\\/insights?access_token=EAAPGyUspGX4BO3iqr4N8UJotTjnDRboYbpFZCXvzb7zt9QmWHZAHYzZClyRtoBe98zBaHL34IEFvA0TchaFtIVkqQOJEflrDZCdnFCZBHqRJUp8dN9llD4EGJDejWUQBFxWi19GKWvGtJugASEcPZBpJsEDAuMxZAxsmCjPtySBux8jEEkXZC2o7qK5SeSBnLGQZCEAX5vOHTmBCmiNOpLNB3cnAzOFocqonF&since=1685602800&until=1690873200&metric=page_follows\",\"next\":\"https:\\\\/\\\\/graph.facebook.com\\\\/v20.0\\\\/151189004972368\\\\/insights?access_token=EAAPGyUspGX4BO3iqr4N8UJotTjnDRboYbpFZCXvzb7zt9QmWHZAHYzZClyRtoBe98zBaHL34IEFvA0TchaFtIVkqQOJEflrDZCdnFCZBHqRJUp8dN9llD4EGJDejWUQBFxWi19GKWvGtJugASEcPZBpJsEDAuMxZAxsmCjPtySBux8jEEkXZC2o7qK5SeSBnLGQZCEAX5vOHTmBCmiNOpLNB3cnAzOFocqonF&since=1696143600&until=1701417600&metric=page_follows\"}}'"
      ]
     },
     "execution_count": 37,
     "metadata": {},
     "output_type": "execute_result"
    }
   ],
   "source": [
    "response.text"
   ]
  },
  {
   "cell_type": "code",
   "execution_count": 31,
   "metadata": {},
   "outputs": [
    {
     "ename": "KeyError",
     "evalue": "'data'",
     "output_type": "error",
     "traceback": [
      "\u001b[1;31m---------------------------------------------------------------------------\u001b[0m",
      "\u001b[1;31mKeyError\u001b[0m                                  Traceback (most recent call last)",
      "Cell \u001b[1;32mIn[31], line 1\u001b[0m\n\u001b[1;32m----> 1\u001b[0m data \u001b[38;5;241m=\u001b[39m \u001b[43mresponse\u001b[49m\u001b[38;5;241;43m.\u001b[39;49m\u001b[43mjson\u001b[49m\u001b[43m(\u001b[49m\u001b[43m)\u001b[49m\u001b[43m[\u001b[49m\u001b[38;5;124;43m'\u001b[39;49m\u001b[38;5;124;43mdata\u001b[39;49m\u001b[38;5;124;43m'\u001b[39;49m\u001b[43m]\u001b[49m[\u001b[38;5;241m0\u001b[39m][\u001b[38;5;124m'\u001b[39m\u001b[38;5;124mvalues\u001b[39m\u001b[38;5;124m'\u001b[39m]\n",
      "\u001b[1;31mKeyError\u001b[0m: 'data'"
     ]
    }
   ],
   "source": [
    "data = response.json()['data'][0]['values']"
   ]
  },
  {
   "cell_type": "code",
   "execution_count": 28,
   "metadata": {},
   "outputs": [],
   "source": [
    "df = pd.DataFrame(data)"
   ]
  },
  {
   "cell_type": "code",
   "execution_count": 25,
   "metadata": {},
   "outputs": [],
   "source": [
    "df = df.rename(columns={'value': 'likes', 'end_time': 'date'})"
   ]
  },
  {
   "cell_type": "code",
   "execution_count": 18,
   "metadata": {},
   "outputs": [],
   "source": [
    "df['date'] = pd.to_datetime(df['date'])\n",
    "df['date'] = df['date'].dt.strftime('%Y-%m-%d')"
   ]
  },
  {
   "cell_type": "code",
   "execution_count": null,
   "metadata": {},
   "outputs": [],
   "source": [
    "df"
   ]
  }
 ],
 "metadata": {
  "kernelspec": {
   "display_name": ".venv",
   "language": "python",
   "name": "python3"
  },
  "language_info": {
   "codemirror_mode": {
    "name": "ipython",
    "version": 3
   },
   "file_extension": ".py",
   "mimetype": "text/x-python",
   "name": "python",
   "nbconvert_exporter": "python",
   "pygments_lexer": "ipython3",
   "version": "3.9.0"
  }
 },
 "nbformat": 4,
 "nbformat_minor": 2
}
