{
 "cells": [
  {
   "cell_type": "code",
   "execution_count": 3,
   "metadata": {},
   "outputs": [],
   "source": [
    "import requests\n",
    "import pandas as pd\n",
    "from datetime import datetime, timedelta"
   ]
  },
  {
   "cell_type": "code",
   "execution_count": 25,
   "metadata": {},
   "outputs": [],
   "source": [
    "def get_facebook_insights(page_id, access_token, metric, start_date, end_date):\n",
    "    url = f'https://graph.facebook.com/v20.0/{page_id}/insights'\n",
    "    \n",
    "    # Convert start and end date to datetime objects\n",
    "    start = datetime.strptime(start_date, '%Y-%m-%d')\n",
    "    end = datetime.strptime(end_date, '%Y-%m-%d')\n",
    "    \n",
    "    all_data = []\n",
    "    \n",
    "    while start <= end:\n",
    "        # Calculate the end date for this iteration (30 days or less)\n",
    "        iteration_end = min(start + timedelta(days=30), end)\n",
    "        \n",
    "        params = {\n",
    "            'access_token': access_token,\n",
    "            'metric': metric,\n",
    "            'since': start.strftime('%Y-%m-%d'),\n",
    "            'until': iteration_end.strftime('%Y-%m-%d')\n",
    "        }\n",
    "        \n",
    "        print(f\"Making API call for period: {start.strftime('%Y-%m-%d')} to {iteration_end.strftime('%Y-%m-%d')}\")\n",
    "        \n",
    "        response = requests.get(url, params=params)\n",
    "        \n",
    "        if response.status_code != 200:\n",
    "            print(f\"Error in API call: {response.status_code}\")\n",
    "            print(f\"Response content: {response.text}\")\n",
    "            return pd.DataFrame()  # Return empty DataFrame if an error occurs\n",
    "        \n",
    "        data = response.json()\n",
    "        \n",
    "        if 'data' in data and data['data']:\n",
    "            # Extend the list with the values from this API call\n",
    "            all_data.extend(data['data'][0]['values'])\n",
    "        else:\n",
    "            print(f\"No data returned for period: {start.strftime('%Y-%m-%d')} to {iteration_end.strftime('%Y-%m-%d')}\")\n",
    "        \n",
    "        # Move the start date to the day after the current iteration's end date\n",
    "        start = iteration_end + timedelta(days=1)\n",
    "    \n",
    "    # If no data was collected, return an empty DataFrame\n",
    "    if not all_data:\n",
    "        print(\"No data collected across all API calls\")\n",
    "        return pd.DataFrame()\n",
    "    \n",
    "    # Create DataFrame and ensure 'end_time' is a datetime column\n",
    "    df = pd.DataFrame(all_data)\n",
    "    if 'end_time' in df.columns:\n",
    "        df['end_time'] = pd.to_datetime(df['end_time'])\n",
    "    \n",
    "    return df"
   ]
  },
  {
   "cell_type": "code",
   "execution_count": 32,
   "metadata": {},
   "outputs": [],
   "source": [
    "page_id = '151189004972368'\n",
    "access_token = 'EAAPGyUspGX4BO1tTxi02gxCBOWq1d6d7RHBbs3fwr7NzZAn9lRZCLSjUCKZBu4QonZBn9ZAZA5xRd26cVqECC4A65QawLozpuwM99rDcKr42E0JZAoDV9Ww2GSFz1dcaCqlkVNv8ERtiyQr8T8fxoCgLTyxHfYBVZBH8umwetQiO7iRWftuX3BtaYfMwf6AUNGmhPq56C56zsvMaMZClSYcQ5bL61DF3wLJYZD'\n",
    "start_date = '2023-09-01'\n",
    "end_date = '2024-09-12'\n",
    "metric = 'page_follows'"
   ]
  },
  {
   "cell_type": "code",
   "execution_count": null,
   "metadata": {},
   "outputs": [],
   "source": [
    "df = get_facebook_insights(page_id, access_token, metric, start_date, end_date)\n",
    "print(df)"
   ]
  },
  {
   "cell_type": "code",
   "execution_count": null,
   "metadata": {},
   "outputs": [],
   "source": [
    "df"
   ]
  },
  {
   "cell_type": "code",
   "execution_count": null,
   "metadata": {},
   "outputs": [],
   "source": []
  }
 ],
 "metadata": {
  "kernelspec": {
   "display_name": ".venv",
   "language": "python",
   "name": "python3"
  },
  "language_info": {
   "codemirror_mode": {
    "name": "ipython",
    "version": 3
   },
   "file_extension": ".py",
   "mimetype": "text/x-python",
   "name": "python",
   "nbconvert_exporter": "python",
   "pygments_lexer": "ipython3",
   "version": "3.12.0"
  }
 },
 "nbformat": 4,
 "nbformat_minor": 2
}
