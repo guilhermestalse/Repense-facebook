{
 "cells": [
  {
   "cell_type": "code",
   "execution_count": 101,
   "metadata": {},
   "outputs": [],
   "source": [
    "import requests\n",
    "import pandas as pd\n",
    "from datetime import datetime, timedelta\n",
    "from dateutil.relativedelta import relativedelta\n",
    "import stalse_functions as sf\n",
    "import pandas_gbq\n"
   ]
  },
  {
   "cell_type": "code",
   "execution_count": 126,
   "metadata": {},
   "outputs": [],
   "source": [
    "def get_facebook_insights(page_id, access_token, metric, start_date, end_date):\n",
    "    url = f'https://graph.facebook.com/v20.0/{page_id}/insights'\n",
    "    start = datetime.strptime(start_date, '%Y-%m-%d')\n",
    "    end = datetime.strptime(end_date, '%Y-%m-%d')\n",
    "    start = (start + relativedelta(day=31))\n",
    "    end = (end + relativedelta(day=31))\n",
    "    \n",
    "    all_data = []\n",
    "    current = start\n",
    "    \n",
    "    while current < end:\n",
    "        batch_end = (current + relativedelta(months=1, day=31))\n",
    "        batch_end = min(batch_end, end)\n",
    "        params = {\n",
    "            'access_token': access_token,\n",
    "            'metric': metric,\n",
    "            'period': 'day',\n",
    "            'since': current.strftime('%Y-%m-%d'),\n",
    "            'until': batch_end.strftime('%Y-%m-%d')\n",
    "        }\n",
    "        print(f\"Making API call for period: {current.strftime('%Y-%m-%d')} to {batch_end.strftime('%Y-%m-%d')}\")\n",
    "        response = requests.get(url, params=params)\n",
    "        if response.status_code != 200:\n",
    "            print(f\"Error in API call: {response.status_code}\")\n",
    "            print(f\"Response content: {response.text}\")\n",
    "            return pd.DataFrame()\n",
    "        data = response.json()\n",
    "        if 'data' in data and data['data']:\n",
    "            all_data.extend(data['data'][0]['values'])\n",
    "        else:\n",
    "            print(f\"No data returned for period: {current.strftime('%Y-%m-%d')} to {batch_end.strftime('%Y-%m-%d')}\")\n",
    "        current = batch_end\n",
    "    if not all_data:\n",
    "        print(\"No data collected across all API calls\")\n",
    "        return pd.DataFrame()\n",
    "    df = pd.DataFrame(all_data)\n",
    "    if 'end_time' in df.columns:\n",
    "        df['end_time'] = pd.to_datetime(df['end_time'])\n",
    "    \n",
    "    return df"
   ]
  },
  {
   "cell_type": "code",
   "execution_count": 139,
   "metadata": {},
   "outputs": [],
   "source": [
    "page_id = '151189004972368'\n",
    "access_token = 'EAAPGyUspGX4BO3iqr4N8UJotTjnDRboYbpFZCXvzb7zt9QmWHZAHYzZClyRtoBe98zBaHL34IEFvA0TchaFtIVkqQOJEflrDZCdnFCZBHqRJUp8dN9llD4EGJDejWUQBFxWi19GKWvGtJugASEcPZBpJsEDAuMxZAxsmCjPtySBux8jEEkXZC2o7qK5SeSBnLGQZCEAX5vOHTmBCmiNOpLNB3cnAzOFocqonF'\n",
    "start_date = '2023-08-31'\n",
    "end_date = '2024-09-12'\n",
    "metric = 'page_follows'"
   ]
  },
  {
   "cell_type": "code",
   "execution_count": null,
   "metadata": {},
   "outputs": [],
   "source": [
    "df = get_facebook_insights(page_id, access_token, metric, start_date, end_date)\n"
   ]
  },
  {
   "cell_type": "code",
   "execution_count": 129,
   "metadata": {},
   "outputs": [],
   "source": [
    "df = df.rename(columns={'value': 'likes', 'end_time': 'date'})\n"
   ]
  },
  {
   "cell_type": "code",
   "execution_count": 130,
   "metadata": {},
   "outputs": [],
   "source": [
    "df['date'] = pd.to_datetime(df['date'])\n",
    "df['date'] = df['date'].dt.strftime('%Y-%m-%d')"
   ]
  },
  {
   "cell_type": "code",
   "execution_count": 133,
   "metadata": {},
   "outputs": [],
   "source": [
    "df['date'] = pd.to_datetime(df['date'])"
   ]
  },
  {
   "cell_type": "code",
   "execution_count": 134,
   "metadata": {},
   "outputs": [],
   "source": [
    "cutoff_date = pd.Timestamp('2024-09-12')"
   ]
  },
  {
   "cell_type": "code",
   "execution_count": null,
   "metadata": {},
   "outputs": [],
   "source": [
    "filtered_df = df[df['date'] <= cutoff_date]\n",
    "filtered_df['date'] = filtered_df['date'].dt.strftime('%Y-%m-%d')"
   ]
  },
  {
   "cell_type": "code",
   "execution_count": null,
   "metadata": {},
   "outputs": [],
   "source": [
    "filtered_df"
   ]
  },
  {
   "cell_type": "code",
   "execution_count": null,
   "metadata": {},
   "outputs": [],
   "source": [
    "sf.cria_bq(df, 'panasonic_facebook.likes', 'replace', 'repense-398114')"
   ]
  },
  {
   "cell_type": "code",
   "execution_count": 24,
   "metadata": {},
   "outputs": [],
   "source": []
  },
  {
   "cell_type": "code",
   "execution_count": null,
   "metadata": {},
   "outputs": [],
   "source": []
  }
 ],
 "metadata": {
  "kernelspec": {
   "display_name": ".venv",
   "language": "python",
   "name": "python3"
  },
  "language_info": {
   "codemirror_mode": {
    "name": "ipython",
    "version": 3
   },
   "file_extension": ".py",
   "mimetype": "text/x-python",
   "name": "python",
   "nbconvert_exporter": "python",
   "pygments_lexer": "ipython3",
   "version": "3.9.0"
  }
 },
 "nbformat": 4,
 "nbformat_minor": 2
}
